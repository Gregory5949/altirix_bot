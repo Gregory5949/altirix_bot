{
 "cells": [
  {
   "cell_type": "code",
   "execution_count": null,
   "metadata": {
    "collapsed": true,
    "pycharm": {
     "is_executing": true
    }
   },
   "outputs": [],
   "source": [
    "import math\n",
    "# !pip install deepeval\n",
    "# !pip install langchain_community\n",
    "# !pip install -qU pypdf\n",
    "# !pip install gigachain-community gigachain-chroma\n",
    "# !pip install sentence-transformers\n",
    "# !pip install langsmith\n",
    "# !pip install pymupdf\n",
    "\n",
    "import nltk\n",
    "\n",
    "nltk.download('punkt')\n",
    "from langchain_chroma import Chroma\n",
    "from langchain_community.embeddings.gigachat import GigaChatEmbeddings\n",
    "\n",
    "import os\n",
    "import re\n",
    "from langchain_community.document_loaders import PyPDFLoader"
   ]
  },
  {
   "cell_type": "code",
   "execution_count": 7,
   "outputs": [],
   "source": [
    "# from config import sber\n",
    "sber = \"NjM5NzdhZmQtZDg0Yy00NmVjLTgyYTctNTViMjYwMGRjMmQ3OjdkMmM0MmQ0LWZkNzItNDczNy1iNjliLTlkYjU2MjE1NWFlYw==\"\n",
    "embedding_function_gigachat = GigaChatEmbeddings(credentials=sber, verify_ssl_certs=False,\n",
    "                                                 scope=\"GIGACHAT_API_PERS\")"
   ],
   "metadata": {
    "collapsed": false
   }
  },
  {
   "cell_type": "code",
   "execution_count": null,
   "outputs": [],
   "source": [
    "cb_rf_acts = '/Users/gd/PycharmProjects/altirix_systems_chatbot/cb_rf_acts/'\n",
    "cb_rf_info_letters = '/Users/gd/PycharmProjects/altirix_systems_chatbot/cb_rf_info_letters/'\n",
    "cb_rf_methodical_recommendations = '/Users/gd/PycharmProjects/altirix_systems_chatbot/cb_rf_methodical_recommendations/'\n",
    "cb_rf_policies = '/Users/gd/PycharmProjects/altirix_systems_chatbot/cb_rf_policies/'\n",
    "cb_rf_position = '/Users/gd/PycharmProjects/altirix_systems_chatbot/cb_rf_position/'\n",
    "cb_rf_prikazy = '/Users/gd/PycharmProjects/altirix_systems_chatbot/cb_rf_prikazy/'\n",
    "cb_rf_recommendations = '/Users/gd/PycharmProjects/altirix_systems_chatbot/cb_rf_recommendations/'\n",
    "fsb_documents_pdf = '/Users/gd/PycharmProjects/altirix_systems_chatbot/fsb_documents_pdf/'\n",
    "fstek_documents_pdf = '/Users/gd/PycharmProjects/altirix_systems_chatbot/fstek_documents_pdf/'\n",
    "fz = '/Users/gd/PycharmProjects/altirix_systems_chatbot/fz/'\n",
    "gossopka_acts = '/Users/gd/PycharmProjects/altirix_systems_chatbot/gossopka_acts/'\n",
    "gosts = '/Users/gd/PycharmProjects/altirix_systems_chatbot/gosts/'\n",
    "minimum_docs = '/Users/gd/PycharmProjects/altirix_systems_chatbot/minimum_docs/'\n",
    "# kaspersky_encyclopedia = '/Users/gd/PycharmProjects/altirix_systems_chatbot/kaspersky_encyclopedia/'\n",
    "# gossopka_glossary = '/Users/gd/PycharmProjects/altirix_systems_chatbot/gossopka_glossary/'"
   ],
   "metadata": {
    "collapsed": false
   }
  },
  {
   "cell_type": "code",
   "execution_count": null,
   "outputs": [],
   "source": [
    "docs_path = []"
   ],
   "metadata": {
    "collapsed": false
   }
  },
  {
   "cell_type": "code",
   "execution_count": null,
   "outputs": [],
   "source": [
    "for path in sorted(os.listdir(gosts)):\n",
    "    docs_path.append(gosts + path)"
   ],
   "metadata": {
    "collapsed": false
   }
  },
  {
   "cell_type": "code",
   "execution_count": null,
   "outputs": [],
   "source": [
    "len(docs_path)"
   ],
   "metadata": {
    "collapsed": false
   }
  },
  {
   "cell_type": "code",
   "execution_count": null,
   "outputs": [],
   "source": [
    "from langchain_text_splitters import RecursiveCharacterTextSplitter\n",
    "\n",
    "\n",
    "def clean_text(file_path):\n",
    "    docs = PyPDFLoader(file_path).load()\n",
    "    for i in range(len(docs)):\n",
    "        if i == 0:\n",
    "            docs[i].page_content = re.sub(r'Документ предоставлен.*\\n', '', docs[i].page_content, flags=re.DOTALL)\n",
    "        else:\n",
    "            docs[i].page_content = re.sub(r'КонсультантПлюс.*\\.\\.\\.', '', docs[i].page_content, flags=re.DOTALL)\n",
    "\n",
    "    return docs\n",
    "\n",
    "\n",
    "all_docs = []\n",
    "for path in docs_path:\n",
    "    cleaned_docs = clean_text(path)\n",
    "    all_docs.append(cleaned_docs)\n"
   ],
   "metadata": {
    "collapsed": false
   }
  },
  {
   "cell_type": "code",
   "execution_count": null,
   "outputs": [],
   "source": [
    "text_splitter = RecursiveCharacterTextSplitter(\n",
    "    separators=[\n",
    "        \"\\n\\n\",\n",
    "        \"\\n\",\n",
    "        \" \",\n",
    "        \".\",\n",
    "        \",\",\n",
    "        \"\\u200b\",\n",
    "        \"\\uff0c\",\n",
    "        \"\\u3001\",\n",
    "        \"\\uff0e\",\n",
    "        \"\\u3002\",\n",
    "        \"\\t\",\n",
    "        ''\n",
    "    ],\n",
    "    chunk_size=1200,\n",
    "    chunk_overlap=70,\n",
    "    length_function=len\n",
    ")"
   ],
   "metadata": {
    "collapsed": false
   }
  },
  {
   "cell_type": "code",
   "execution_count": null,
   "outputs": [],
   "source": [
    "for i in range(len(all_docs)):\n",
    "    for j in range(len(all_docs[i])):\n",
    "        all_docs[i][j].page_content = all_docs[i][j].page_content.replace('\\xad\\n', '')\n",
    "        all_docs[i][j].page_content = all_docs[i][j].page_content.replace(' -\\n', '')\n",
    "        all_docs[i][j].page_content = all_docs[i][j].page_content.replace(\"-\\n\", \"\")\n",
    "        all_docs[i][j].page_content = all_docs[i][j].page_content.replace(\"\\n\", \" \")\n",
    "        all_docs[i][j].page_content = all_docs[i][j].page_content.replace('\\u2002', ' ')\n",
    "        all_docs[i][j].page_content = all_docs[i][j].page_content.replace('\\xa0', ' ')\n",
    "        all_docs[i][j].page_content = all_docs[i][j].page_content.replace('\\\\u', '')\n",
    "        all_docs[i][j].page_content = all_docs[i][j].page_content.replace(\"\\t\", \" \")"
   ],
   "metadata": {
    "collapsed": false
   }
  },
  {
   "cell_type": "code",
   "execution_count": null,
   "outputs": [],
   "source": [
    "chunks = []\n",
    "for docs in all_docs:\n",
    "    chunks.append(text_splitter.split_documents(docs))"
   ],
   "metadata": {
    "collapsed": false
   }
  },
  {
   "cell_type": "code",
   "execution_count": null,
   "outputs": [],
   "source": [
    "import chromadb\n",
    "\n",
    "persist_directory = \"/Users/gd/PycharmProjects/altirix_systems_chatbot/chromadb_chunk_size_1200\"\n",
    "client = chromadb.PersistentClient(path=persist_directory)\n",
    "client.get_or_create_collection(name=\"chromadb_chunk_size_1200\")"
   ],
   "metadata": {
    "collapsed": false
   }
  },
  {
   "cell_type": "code",
   "execution_count": 8,
   "outputs": [],
   "source": [
    "chromadb_chunk_size_1200 = Chroma(\n",
    "    persist_directory=\"/Users/gd/PycharmProjects/altirix_systems_chatbot/chromadb_chunk_size_1200\",\n",
    "    embedding_function=embedding_function_gigachat)\n"
   ],
   "metadata": {
    "collapsed": false
   }
  },
  {
   "cell_type": "code",
   "execution_count": 9,
   "outputs": [],
   "source": [
    "db_info = chromadb_chunk_size_1200._collection.get(include=[\"documents\", \"metadatas\", \"embeddings\"])"
   ],
   "metadata": {
    "collapsed": false
   }
  },
  {
   "cell_type": "code",
   "execution_count": null,
   "outputs": [],
   "source": [
    "for i in range(len(db_info['metadatas'])):\n",
    "    if 'Указ Президента РФ от 30.03.2022 N 166 (ред. от 22.11.2023).pdf' in db_info['metadatas'][i]['source']:\n",
    "        print('_______')\n",
    "        print(db_info['documents'][i])"
   ],
   "metadata": {
    "collapsed": false
   }
  },
  {
   "cell_type": "code",
   "execution_count": null,
   "outputs": [],
   "source": [
    "ids_ = []\n",
    "metadatas_ = []\n",
    "documents_ = []\n",
    "embs_ = []\n",
    "for i in range(len(db_info['metadatas'])):\n",
    "    if 'gosts' not in db_info['metadatas'][i]['source']:\n",
    "        ids_.append(db_info['ids'][i])\n",
    "        documents_.append(db_info['documents'][i])\n",
    "        embs_.append(db_info['embeddings'][i])\n",
    "        metadatas_.append(db_info['metadatas'][i])\n",
    "\n"
   ],
   "metadata": {
    "collapsed": false
   }
  },
  {
   "cell_type": "code",
   "execution_count": null,
   "outputs": [],
   "source": [
    "documents_strs = []\n",
    "metadatas = []\n",
    "for i in range(len(chunks)):\n",
    "    for d in chunks[i]:\n",
    "        documents_strs.append(d.page_content)\n",
    "        metadatas.append(d.metadata)\n",
    "\n",
    "ids = [f'doc{i}' for i in range(len(db_info['ids']), len(metadatas) + len(db_info['ids']))]"
   ],
   "metadata": {
    "collapsed": false
   }
  },
  {
   "cell_type": "code",
   "execution_count": null,
   "outputs": [],
   "source": [
    "len(ids)"
   ],
   "metadata": {
    "collapsed": false
   }
  },
  {
   "cell_type": "code",
   "execution_count": null,
   "outputs": [],
   "source": [
    "import time\n",
    "from gigachat.exceptions import ResponseError\n",
    "\n",
    "embedded_docs = []\n",
    "doc_idx_cant_process = []\n",
    "for i in range(len(documents_strs)):\n",
    "    try:\n",
    "        emb = embedding_function_gigachat.embed_documents([documents_strs[i]])\n",
    "        embedded_docs.append(emb)\n",
    "    except ResponseError:\n",
    "        doc_idx_cant_process.append(i)\n",
    "        embedded_docs.append(-1)\n",
    "\n",
    "    # if i % 10 == 0:\n",
    "    #     time.sleep(1)\n"
   ],
   "metadata": {
    "collapsed": false
   }
  },
  {
   "cell_type": "code",
   "execution_count": null,
   "outputs": [],
   "source": [
    "valid_docs = []\n",
    "valid_embs = []\n",
    "valid_metadatas = []\n",
    "for i in range(len(embedded_docs)):\n",
    "    if embedded_docs[i] == -1:\n",
    "        pass\n",
    "    else:\n",
    "        valid_docs.append(documents_strs[i])\n",
    "        valid_embs.append(embedded_docs[i])\n",
    "        valid_metadatas.append(metadatas[i])\n",
    "\n",
    "ids = [f'doc{i}' for i in range(len(db_info['ids']) - len(doc_idx_cant_process),\n",
    "                                len(valid_docs) + len(db_info['ids']) - len(doc_idx_cant_process))]"
   ],
   "metadata": {
    "collapsed": false
   }
  },
  {
   "cell_type": "code",
   "execution_count": null,
   "outputs": [],
   "source": [
    "valid_embs_ = []\n",
    "for emb in valid_embs:\n",
    "    valid_embs_.append(emb[0])"
   ],
   "metadata": {
    "collapsed": false
   }
  },
  {
   "cell_type": "code",
   "execution_count": null,
   "outputs": [],
   "source": [
    "len(valid_docs), len(valid_embs_), len(valid_metadatas), len(ids)"
   ],
   "metadata": {
    "collapsed": false
   }
  },
  {
   "cell_type": "code",
   "execution_count": null,
   "outputs": [],
   "source": [
    "#Возможно за раз не нужно добавлять сразу все документы, лучше (по частям)\n",
    "chromadb_chunk_size_1200._collection.add(\n",
    "    documents=valid_docs,\n",
    "    embeddings=valid_embs_,\n",
    "    ids=ids,\n",
    "    metadatas=valid_metadatas\n",
    ")"
   ],
   "metadata": {
    "collapsed": false
   }
  },
  {
   "cell_type": "code",
   "execution_count": 3,
   "outputs": [
    {
     "ename": "NameError",
     "evalue": "name 'db_info' is not defined",
     "output_type": "error",
     "traceback": [
      "\u001B[0;31m---------------------------------------------------------------------------\u001B[0m",
      "\u001B[0;31mNameError\u001B[0m                                 Traceback (most recent call last)",
      "Cell \u001B[0;32mIn[3], line 2\u001B[0m\n\u001B[1;32m      1\u001B[0m sources \u001B[38;5;241m=\u001B[39m []\n\u001B[0;32m----> 2\u001B[0m \u001B[38;5;28;01mfor\u001B[39;00m i \u001B[38;5;129;01min\u001B[39;00m \u001B[43mdb_info\u001B[49m[\u001B[38;5;124m'\u001B[39m\u001B[38;5;124mmetadatas\u001B[39m\u001B[38;5;124m'\u001B[39m]:\n\u001B[1;32m      3\u001B[0m     sources\u001B[38;5;241m.\u001B[39mappend(i[\u001B[38;5;124m'\u001B[39m\u001B[38;5;124msource\u001B[39m\u001B[38;5;124m'\u001B[39m])\n",
      "\u001B[0;31mNameError\u001B[0m: name 'db_info' is not defined"
     ]
    }
   ],
   "source": [
    "sources = []\n",
    "for i in db_info['metadatas']:\n",
    "    sources.append(i['source'])\n"
   ],
   "metadata": {
    "collapsed": false
   }
  },
  {
   "cell_type": "code",
   "execution_count": 47,
   "outputs": [
    {
     "name": "stdout",
     "output_type": "stream",
     "text": [
      "/Users/gd/PycharmProjects/altirix_systems_chatbot/fz/Ob_elektronnoj_podpisi_ot_06.04.2011_N_63_FZ_red._ot_14.07.2022_.pdf\n",
      "/Users/gd/PycharmProjects/altirix_systems_chatbot/fz/Federal_nyy_zakon_ot_26.07.2017_N_187_FZ_O_bezopasnosti_kri.pdf\n",
      "/Users/gd/PycharmProjects/altirix_systems_chatbot/gossopka_acts/194-FZ.pdf\n"
     ]
    }
   ],
   "source": [
    "gosts = []\n",
    "cnt_ = 0\n",
    "for p in list(set(sources)):\n",
    "    if 'FZ' in p:\n",
    "        print(p)\n",
    "\n"
   ],
   "metadata": {
    "collapsed": false
   }
  },
  {
   "cell_type": "code",
   "execution_count": 43,
   "outputs": [
    {
     "data": {
      "text/plain": "165"
     },
     "execution_count": 43,
     "metadata": {},
     "output_type": "execute_result"
    }
   ],
   "source": [
    "cnt_"
   ],
   "metadata": {
    "collapsed": false
   }
  },
  {
   "cell_type": "code",
   "execution_count": null,
   "outputs": [],
   "source": [],
   "metadata": {
    "collapsed": false
   }
  }
 ],
 "metadata": {
  "kernelspec": {
   "display_name": "Python 3",
   "language": "python",
   "name": "python3"
  },
  "language_info": {
   "codemirror_mode": {
    "name": "ipython",
    "version": 2
   },
   "file_extension": ".py",
   "mimetype": "text/x-python",
   "name": "python",
   "nbconvert_exporter": "python",
   "pygments_lexer": "ipython2",
   "version": "2.7.6"
  }
 },
 "nbformat": 4,
 "nbformat_minor": 0
}
