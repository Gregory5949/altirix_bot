{
 "cells": [
  {
   "metadata": {
    "ExecuteTime": {
     "end_time": "2025-02-12T08:00:50.528106Z",
     "start_time": "2025-02-12T08:00:08.794334Z"
    }
   },
   "cell_type": "code",
   "source": [
    "!pip install PyPDF2\n",
    "!pip install pdfminer.six\n",
    "!pip install pdfplumber\n",
    "!pip install pdf2image\n",
    "!pip install Pillow\n",
    "!pip install pytesseract"
   ],
   "id": "b429c9c51be7b021",
   "outputs": [
    {
     "name": "stdout",
     "output_type": "stream",
     "text": [
      "Requirement already satisfied: PyPDF2 in /Library/Frameworks/Python.framework/Versions/3.13/lib/python3.13/site-packages (3.0.1)\r\n",
      "Collecting pdfminer.six\r\n",
      "  Downloading pdfminer.six-20240706-py3-none-any.whl.metadata (4.1 kB)\r\n",
      "Requirement already satisfied: charset-normalizer>=2.0.0 in /Library/Frameworks/Python.framework/Versions/3.13/lib/python3.13/site-packages (from pdfminer.six) (3.4.1)\r\n",
      "Collecting cryptography>=36.0.0 (from pdfminer.six)\r\n",
      "  Downloading cryptography-44.0.1-cp39-abi3-macosx_10_9_universal2.whl.metadata (5.7 kB)\r\n",
      "Requirement already satisfied: cffi>=1.12 in /Library/Frameworks/Python.framework/Versions/3.13/lib/python3.13/site-packages (from cryptography>=36.0.0->pdfminer.six) (1.17.1)\r\n",
      "Requirement already satisfied: pycparser in /Library/Frameworks/Python.framework/Versions/3.13/lib/python3.13/site-packages (from cffi>=1.12->cryptography>=36.0.0->pdfminer.six) (2.22)\r\n",
      "Downloading pdfminer.six-20240706-py3-none-any.whl (5.6 MB)\r\n",
      "\u001B[2K   \u001B[90m━━━━━━━━━━━━━━━━━━━━━━━━━━━━━━━━━━━━━━━━\u001B[0m \u001B[32m5.6/5.6 MB\u001B[0m \u001B[31m513.4 kB/s\u001B[0m eta \u001B[36m0:00:00\u001B[0m00:01\u001B[0m00:01\u001B[0m\r\n",
      "\u001B[?25hDownloading cryptography-44.0.1-cp39-abi3-macosx_10_9_universal2.whl (6.6 MB)\r\n",
      "\u001B[2K   \u001B[90m━━━━━━━━━━━━━━━━━━━━━━━━━━━━━━━━━━━━━━━━\u001B[0m \u001B[32m6.6/6.6 MB\u001B[0m \u001B[31m548.5 kB/s\u001B[0m eta \u001B[36m0:00:00\u001B[0m00:01\u001B[0m00:01\u001B[0m\r\n",
      "\u001B[?25hInstalling collected packages: cryptography, pdfminer.six\r\n",
      "Successfully installed cryptography-44.0.1 pdfminer.six-20240706\r\n",
      "Collecting pdfplumber\r\n",
      "  Downloading pdfplumber-0.11.5-py3-none-any.whl.metadata (42 kB)\r\n",
      "Collecting pdfminer.six==20231228 (from pdfplumber)\r\n",
      "  Downloading pdfminer.six-20231228-py3-none-any.whl.metadata (4.2 kB)\r\n",
      "Requirement already satisfied: Pillow>=9.1 in /Library/Frameworks/Python.framework/Versions/3.13/lib/python3.13/site-packages (from pdfplumber) (11.1.0)\r\n",
      "Collecting pypdfium2>=4.18.0 (from pdfplumber)\r\n",
      "  Downloading pypdfium2-4.30.1-py3-none-macosx_11_0_arm64.whl.metadata (48 kB)\r\n",
      "Requirement already satisfied: charset-normalizer>=2.0.0 in /Library/Frameworks/Python.framework/Versions/3.13/lib/python3.13/site-packages (from pdfminer.six==20231228->pdfplumber) (3.4.1)\r\n",
      "Requirement already satisfied: cryptography>=36.0.0 in /Library/Frameworks/Python.framework/Versions/3.13/lib/python3.13/site-packages (from pdfminer.six==20231228->pdfplumber) (44.0.1)\r\n",
      "Requirement already satisfied: cffi>=1.12 in /Library/Frameworks/Python.framework/Versions/3.13/lib/python3.13/site-packages (from cryptography>=36.0.0->pdfminer.six==20231228->pdfplumber) (1.17.1)\r\n",
      "Requirement already satisfied: pycparser in /Library/Frameworks/Python.framework/Versions/3.13/lib/python3.13/site-packages (from cffi>=1.12->cryptography>=36.0.0->pdfminer.six==20231228->pdfplumber) (2.22)\r\n",
      "Downloading pdfplumber-0.11.5-py3-none-any.whl (59 kB)\r\n",
      "Downloading pdfminer.six-20231228-py3-none-any.whl (5.6 MB)\r\n",
      "\u001B[2K   \u001B[90m━━━━━━━━━━━━━━━━━━━━━━━━━━━━━━━━━━━━━━━━\u001B[0m \u001B[32m5.6/5.6 MB\u001B[0m \u001B[31m778.1 kB/s\u001B[0m eta \u001B[36m0:00:00\u001B[0ma \u001B[36m0:00:01\u001B[0m\r\n",
      "\u001B[?25hDownloading pypdfium2-4.30.1-py3-none-macosx_11_0_arm64.whl (2.8 MB)\r\n",
      "\u001B[2K   \u001B[90m━━━━━━━━━━━━━━━━━━━━━━━━━━━━━━━━━━━━━━━━\u001B[0m \u001B[32m2.8/2.8 MB\u001B[0m \u001B[31m972.8 kB/s\u001B[0m eta \u001B[36m0:00:00\u001B[0ma \u001B[36m0:00:01\u001B[0m\r\n",
      "\u001B[?25hInstalling collected packages: pypdfium2, pdfminer.six, pdfplumber\r\n",
      "  Attempting uninstall: pdfminer.six\r\n",
      "    Found existing installation: pdfminer.six 20240706\r\n",
      "    Uninstalling pdfminer.six-20240706:\r\n",
      "      Successfully uninstalled pdfminer.six-20240706\r\n",
      "Successfully installed pdfminer.six-20231228 pdfplumber-0.11.5 pypdfium2-4.30.1\r\n",
      "Collecting pdf2image\r\n",
      "  Downloading pdf2image-1.17.0-py3-none-any.whl.metadata (6.2 kB)\r\n",
      "Requirement already satisfied: pillow in /Library/Frameworks/Python.framework/Versions/3.13/lib/python3.13/site-packages (from pdf2image) (11.1.0)\r\n",
      "Downloading pdf2image-1.17.0-py3-none-any.whl (11 kB)\r\n",
      "Installing collected packages: pdf2image\r\n",
      "Successfully installed pdf2image-1.17.0\r\n",
      "Requirement already satisfied: Pillow in /Library/Frameworks/Python.framework/Versions/3.13/lib/python3.13/site-packages (11.1.0)\r\n",
      "Collecting pytesseract\r\n",
      "  Downloading pytesseract-0.3.13-py3-none-any.whl.metadata (11 kB)\r\n",
      "Requirement already satisfied: packaging>=21.3 in /Library/Frameworks/Python.framework/Versions/3.13/lib/python3.13/site-packages (from pytesseract) (24.2)\r\n",
      "Requirement already satisfied: Pillow>=8.0.0 in /Library/Frameworks/Python.framework/Versions/3.13/lib/python3.13/site-packages (from pytesseract) (11.1.0)\r\n",
      "Downloading pytesseract-0.3.13-py3-none-any.whl (14 kB)\r\n",
      "Installing collected packages: pytesseract\r\n",
      "Successfully installed pytesseract-0.3.13\r\n"
     ]
    }
   ],
   "execution_count": 1
  },
  {
   "cell_type": "code",
   "id": "initial_id",
   "metadata": {
    "collapsed": true,
    "ExecuteTime": {
     "end_time": "2025-02-12T08:00:59.373375Z",
     "start_time": "2025-02-12T08:00:58.984437Z"
    }
   },
   "source": [
    "# To read the PDF\n",
    "import PyPDF2\n",
    "# To analyze the PDF layout and extract text\n",
    "from pdfminer.high_level import extract_pages, extract_text\n",
    "from pdfminer.layout import LTTextContainer, LTChar, LTRect, LTFigure\n",
    "# To extract text from tables in PDF\n",
    "import pdfplumber\n",
    "# To extract the images from the PDFs\n",
    "from PIL import Image\n",
    "from pdf2image import convert_from_path\n",
    "# To perform OCR to extract text from images\n",
    "import pytesseract\n",
    "# To remove the additional created files\n",
    "import os"
   ],
   "outputs": [],
   "execution_count": 2
  },
  {
   "metadata": {
    "ExecuteTime": {
     "end_time": "2025-02-12T08:01:24.123995Z",
     "start_time": "2025-02-12T08:01:24.120580Z"
    }
   },
   "cell_type": "code",
   "source": [
    "# Create function to extract text\n",
    "\n",
    "def text_extraction(element):\n",
    "    # Extracting the text from the in line text element\n",
    "    line_text = element.get_text()\n",
    "\n",
    "    # Find the formats of the text\n",
    "    # Initialize the list with all the formats appeared in the line of text\n",
    "    line_formats = []\n",
    "    for text_line in element:\n",
    "        if isinstance(text_line, LTTextContainer):\n",
    "            # Iterating through each character in the line of text\n",
    "            for character in text_line:\n",
    "                if isinstance(character, LTChar):\n",
    "                    # Append the font name of the character\n",
    "                    line_formats.append(character.fontname)\n",
    "                    # Append the font size of the character\n",
    "                    line_formats.append(character.size)\n",
    "    # Find the unique font sizes and names in the line\n",
    "    format_per_line = list(set(line_formats))\n",
    "\n",
    "    # Return a tuple with the text in each line along with its format\n",
    "    return (line_text, format_per_line)"
   ],
   "id": "cbf8743fc7240e7",
   "outputs": [],
   "execution_count": 4
  },
  {
   "metadata": {
    "ExecuteTime": {
     "end_time": "2025-02-12T08:01:26.923822Z",
     "start_time": "2025-02-12T08:01:26.918202Z"
    }
   },
   "cell_type": "code",
   "source": [
    "# Extracting tables from the page\n",
    "\n",
    "def extract_table(pdf_path, page_num, table_num):\n",
    "    # Open the pdf file\n",
    "    pdf = pdfplumber.open(pdf_path)\n",
    "    # Find the examined page\n",
    "    table_page = pdf.pages[page_num]\n",
    "    # Extract the appropriate table\n",
    "    table = table_page.extract_tables()[table_num]\n",
    "\n",
    "    return table\n",
    "\n",
    "# Convert table into appropriate fromat\n",
    "def table_converter(table):\n",
    "    table_string = ''\n",
    "    # Iterate through each row of the table\n",
    "    for row_num in range(len(table)):\n",
    "        row = table[row_num]\n",
    "        # Remove the line breaker from the wrapted texts\n",
    "        cleaned_row = [item.replace('\\n', ' ') if item is not None and '\\n' in item else 'None' if item is None else item for item in row]\n",
    "        # Convert the table into a string\n",
    "        table_string+=('|'+'|'.join(cleaned_row)+'|'+'\\n')\n",
    "    # Removing the last line break\n",
    "    table_string = table_string[:-1]\n",
    "    return table_string\n",
    "\n",
    "# Create a function to check if the element is in any tables present in the page\n",
    "def is_element_inside_any_table(element, page ,tables):\n",
    "    x0, y0up, x1, y1up = element.bbox\n",
    "    # Change the cordinates because the pdfminer counts from the botton to top of the page\n",
    "    y0 = page.bbox[3] - y1up\n",
    "    y1 = page.bbox[3] - y0up\n",
    "    for table in tables:\n",
    "        tx0, ty0, tx1, ty1 = table.bbox\n",
    "        if tx0 <= x0 <= x1 <= tx1 and ty0 <= y0 <= y1 <= ty1:\n",
    "            return True\n",
    "    return False\n",
    "\n",
    "# Function to find the table for a given element\n",
    "def find_table_for_element(element, page ,tables):\n",
    "    x0, y0up, x1, y1up = element.bbox\n",
    "    # Change the cordinates because the pdfminer counts from the botton to top of the page\n",
    "    y0 = page.bbox[3] - y1up\n",
    "    y1 = page.bbox[3] - y0up\n",
    "    for i, table in enumerate(tables):\n",
    "        tx0, ty0, tx1, ty1 = table.bbox\n",
    "        if tx0 <= x0 <= x1 <= tx1 and ty0 <= y0 <= y1 <= ty1:\n",
    "            return i  # Return the index of the table\n",
    "    return None"
   ],
   "id": "c08835adec2a8190",
   "outputs": [],
   "execution_count": 5
  },
  {
   "metadata": {
    "ExecuteTime": {
     "end_time": "2025-02-12T08:01:30.152434Z",
     "start_time": "2025-02-12T08:01:30.147892Z"
    }
   },
   "cell_type": "code",
   "source": [
    "# Create a function to crop the image elements from PDFs\n",
    "def crop_image(element, pageObj):\n",
    "    # Get the coordinates to crop the image from PDF\n",
    "    [image_left, image_top, image_right, image_bottom] = [element.x0,element.y0,element.x1,element.y1]\n",
    "    # Crop the page using coordinates (left, bottom, right, top)\n",
    "    pageObj.mediabox.lower_left = (image_left, image_bottom)\n",
    "    pageObj.mediabox.upper_right = (image_right, image_top)\n",
    "    # Save the cropped page to a new PDF\n",
    "    cropped_pdf_writer = PyPDF2.PdfWriter()\n",
    "    cropped_pdf_writer.add_page(pageObj)\n",
    "    # Save the cropped PDF to a new file\n",
    "    with open('cropped_image.pdf', 'wb') as cropped_pdf_file:\n",
    "        cropped_pdf_writer.write(cropped_pdf_file)\n",
    "\n",
    "# Create a function to convert the PDF to images\n",
    "def convert_to_images(input_file,):\n",
    "    images = convert_from_path(input_file)\n",
    "    image = images[0]\n",
    "    output_file = 'PDF_image.png'\n",
    "    image.save(output_file, 'PNG')\n",
    "\n",
    "# Create a function to read text from images\n",
    "def image_to_text(image_path):\n",
    "    # Read the image\n",
    "    img = Image.open(image_path)\n",
    "    # Extract the text from the image\n",
    "    text = pytesseract.image_to_string(img)\n",
    "    return text"
   ],
   "id": "cdc02872969be058",
   "outputs": [],
   "execution_count": 6
  },
  {
   "metadata": {
    "ExecuteTime": {
     "end_time": "2025-02-12T08:01:32.622675Z",
     "start_time": "2025-02-12T08:01:32.617557Z"
    }
   },
   "cell_type": "code",
   "source": [
    "# Find the PDF path\n",
    "pdf_path = '/Users/nikitacesev/PycharmProjects/altirix_bot/LitPom_bot-main/Архив/Методические рекомендации/МЕТОДИЧЕСКИЕ РЕКОМЕНДАЦИИ УТВЕРЖДЕНЫ руководством 8 Центра ФСБ России 31.03.2015 года № 149:7:2:6-432.pdf'\n",
    "\n",
    "# Create a pdf file object\n",
    "pdfFileObj = open(pdf_path, 'rb')\n",
    "# Create a pdf reader object\n",
    "pdfReaded = PyPDF2.PdfReader(pdfFileObj)"
   ],
   "id": "3c564e5cb0d7762b",
   "outputs": [],
   "execution_count": 7
  },
  {
   "metadata": {
    "ExecuteTime": {
     "end_time": "2025-02-12T08:01:36.256331Z",
     "start_time": "2025-02-12T08:01:34.396535Z"
    }
   },
   "cell_type": "code",
   "source": [
    "\n",
    "# Create the dictionary to extract text from each image\n",
    "text_per_page = {}\n",
    "# Create a boolean variable for image detection\n",
    "image_flag = False\n",
    "\n",
    "# We extract the pages from the PDF\n",
    "for pagenum, page in enumerate(extract_pages(pdf_path)):\n",
    "\n",
    "    # Initialize the variables needed for the text extraction from the page\n",
    "    pageObj = pdfReaded.pages[pagenum]\n",
    "    page_text = []\n",
    "    line_format = []\n",
    "    text_from_images = []\n",
    "    text_from_tables = []\n",
    "    page_content = []\n",
    "    # Initialize the number of the examined tables\n",
    "    table_in_page= -1\n",
    "    # Open the pdf file\n",
    "    pdf = pdfplumber.open(pdf_path)\n",
    "    # Find the examined page\n",
    "    page_tables = pdf.pages[pagenum]\n",
    "    # Find the number of tables in the page\n",
    "    tables = page_tables.find_tables()\n",
    "    if len(tables)!=0:\n",
    "        table_in_page = 0\n",
    "\n",
    "    # Extracting the tables of the page\n",
    "    for table_num in range(len(tables)):\n",
    "        # Extract the information of the table\n",
    "        table = extract_table(pdf_path, pagenum, table_num)\n",
    "        # Convert the table information in structured string format\n",
    "        table_string = table_converter(table)\n",
    "        # Append the table string into a list\n",
    "        text_from_tables.append(table_string)\n",
    "\n",
    "    # Find all the elements\n",
    "    page_elements = [(element.y1, element) for element in page._objs]\n",
    "    # Sort all the element as they appear in the page\n",
    "    page_elements.sort(key=lambda a: a[0], reverse=True)\n",
    "\n",
    "\n",
    "    # Find the elements that composed a page\n",
    "    for i,component in enumerate(page_elements):\n",
    "        # Extract the element of the page layout\n",
    "        element = component[1]\n",
    "\n",
    "        # Check the elements for tables\n",
    "        if table_in_page == -1:\n",
    "            pass\n",
    "        else:\n",
    "            if is_element_inside_any_table(element, page ,tables):\n",
    "                table_found = find_table_for_element(element,page ,tables)\n",
    "                if table_found == table_in_page and table_found != None:\n",
    "                    page_content.append(text_from_tables[table_in_page])\n",
    "                    page_text.append('table')\n",
    "                    line_format.append('table')\n",
    "                    table_in_page+=1\n",
    "                # Pass this iteration because the content of this element was extracted from the tables\n",
    "                continue\n",
    "\n",
    "        if not is_element_inside_any_table(element,page,tables):\n",
    "\n",
    "            # Check if the element is text element\n",
    "            if isinstance(element, LTTextContainer):\n",
    "                # Use the function to extract the text and format for each text element\n",
    "                (line_text, format_per_line) = text_extraction(element)\n",
    "                # Append the text of each line to the page text\n",
    "                page_text.append(line_text)\n",
    "                # Append the format for each line containing text\n",
    "                line_format.append(format_per_line)\n",
    "                page_content.append(line_text)\n",
    "\n",
    "\n",
    "            # Check the elements for images\n",
    "            if isinstance(element, LTFigure):\n",
    "                # Crop the image from PDF\n",
    "                crop_image(element, pageObj)\n",
    "                # Convert the croped pdf to image\n",
    "                convert_to_images('cropped_image.pdf')\n",
    "                # Extract the text from image\n",
    "                image_text = image_to_text('PDF_image.png')\n",
    "                text_from_images.append(image_text)\n",
    "                page_content.append(image_text)\n",
    "                # Add a placeholder in the text and format lists\n",
    "                page_text.append('image')\n",
    "                line_format.append('image')\n",
    "                # Update the flag for image detection\n",
    "                image_flag = True\n",
    "\n",
    "\n",
    "    # Create the key of the dictionary\n",
    "    dctkey = 'Page_'+str(pagenum)\n",
    "    # Add the list of list as value of the page key\n",
    "    text_per_page[dctkey]= [page_text, line_format, text_from_images,text_from_tables, page_content]"
   ],
   "id": "724334f27284ccf5",
   "outputs": [],
   "execution_count": 8
  },
  {
   "metadata": {
    "ExecuteTime": {
     "end_time": "2025-02-12T08:01:38.554263Z",
     "start_time": "2025-02-12T08:01:38.551662Z"
    }
   },
   "cell_type": "code",
   "source": [
    "# Close the pdf file object\n",
    "pdfFileObj.close()"
   ],
   "id": "fead910f4b80ee78",
   "outputs": [],
   "execution_count": 9
  },
  {
   "metadata": {
    "ExecuteTime": {
     "end_time": "2025-02-12T08:01:39.969852Z",
     "start_time": "2025-02-12T08:01:39.967488Z"
    }
   },
   "cell_type": "code",
   "source": [
    "# Delete the additional files created if image is detected\n",
    "if image_flag:\n",
    "    os.remove('cropped_image.pdf')\n",
    "    os.remove('PDF_image.png')"
   ],
   "id": "1b5e5bb803db6e55",
   "outputs": [],
   "execution_count": 10
  },
  {
   "metadata": {
    "ExecuteTime": {
     "end_time": "2025-02-12T08:04:02.685195Z",
     "start_time": "2025-02-12T08:04:02.681899Z"
    }
   },
   "cell_type": "code",
   "source": [
    "# Display the content of the page\n",
    "result = ''.join(text_per_page['Page_10'][4])\n",
    "print(result)"
   ],
   "id": "1aef9328e2af1523",
   "outputs": [
    {
     "name": "stdout",
     "output_type": "stream",
     "text": [
      "11 \n",
      " \n",
      "|3.2 При описании источников атак определяются категории физических|\n",
      "|лиц, имеющих право постоянного или разового доступа в контролируемую|\n",
      "|зону информационной системы.|\n",
      "|К отдельной категории относятся привилегированные пользователи|\n",
      "|информационной системы (члены группы администраторов), которые|\n",
      "|назначаются из числа доверенных лиц и осуществляют техническое|\n",
      "|обслуживание технических и программных средств СКЗИ и СФ, включая их|\n",
      "|настройку, конфигурирование и распределение ключевой документации|\n",
      "|между непривилегированными пользователями.|\n",
      "|Определяется возможность или невозможность доступа лиц каждой|\n",
      "|категории к объектам защиты.|\n",
      "|Кроме того, определяется и обосновывается перечень категорий лиц,|\n",
      "|которые не рассматриваются в качестве потенциальных источников атак,|\n",
      "|перечень категорий лиц, которые рассматриваются в качестве|\n",
      "|потенциальных источников атак, а также констатируется наличие внешних|\n",
      "|источников атак (без их характеристики) и возможность или невозможность|\n",
      "|доступа внешних источников атак к объектам защиты.|3.2 При описании источников атак определяются категории физических \n",
      "лиц,  имеющих  право  постоянного  или  разового  доступа  в  контролируемую \n",
      "К  отдельной  категории  относятся  привилегированные  пользователи \n",
      "(члены  группы  администраторов),  которые \n",
      "назначаются  из  числа  доверенных  лиц  и  осуществляют  техническое \n",
      "обслуживание технических и программных средств СКЗИ и СФ, включая их \n",
      "настройку,  конфигурирование  и  распределение  ключевой  документации \n",
      "Определяется  возможность  или  невозможность  доступа  лиц  каждой \n",
      "Кроме  того,  определяется  и  обосновывается  перечень  категорий  лиц, \n",
      "которые  не  рассматриваются  в  качестве  потенциальных  источников  атак, \n",
      "качестве \n",
      "потенциальных  источников  атак,  а  также  констатируется  наличие  внешних \n",
      "источников атак (без их характеристики) и возможность или невозможность \n",
      "На  основании  исходных  данных  об  информационных  системах, \n",
      "объектах  защиты  и  источниках  атак  заполняется  Таблица  № 1  об \n",
      "обобщенных возможностях источников атак. \n",
      " \n",
      "Таблица № 1  \n",
      "|№|Обобщенные возможности источников атак|Да/нет|\n",
      "|1|В1озможность самостоятельно осуществлять создание способов атак, подготовку и проведение атак только за пределами контролируемой зоны||\n",
      "|2|В2озможность самостоятельно осуществлять создание способов атак, подготовку и проведение атак в пределах контролируемой зоны, но без физического доступа к аппаратным средствам (далее – АС), на которых реализованы СКЗИ и среда их функционирования||\n"
     ]
    }
   ],
   "execution_count": 18
  }
 ],
 "metadata": {
  "kernelspec": {
   "display_name": "Python 3",
   "language": "python",
   "name": "python3"
  },
  "language_info": {
   "codemirror_mode": {
    "name": "ipython",
    "version": 2
   },
   "file_extension": ".py",
   "mimetype": "text/x-python",
   "name": "python",
   "nbconvert_exporter": "python",
   "pygments_lexer": "ipython2",
   "version": "2.7.6"
  }
 },
 "nbformat": 4,
 "nbformat_minor": 5
}
