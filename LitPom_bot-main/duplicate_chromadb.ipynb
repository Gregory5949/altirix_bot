{
 "cells": [
  {
   "cell_type": "code",
   "execution_count": 1,
   "metadata": {
    "collapsed": true
   },
   "outputs": [
    {
     "name": "stderr",
     "output_type": "stream",
     "text": [
      "[nltk_data] Downloading package punkt to /Users/gd/nltk_data...\n",
      "[nltk_data]   Package punkt is already up-to-date!\n"
     ]
    }
   ],
   "source": [
    "import chromadb\n",
    "import nltk\n",
    "nltk.download('punkt')\n",
    "from langchain_chroma import Chroma\n",
    "from langchain_community.embeddings.gigachat import GigaChatEmbeddings"
   ]
  },
  {
   "cell_type": "code",
   "execution_count": 2,
   "outputs": [],
   "source": [
    "# sber = \"NjM5NzdhZmQtZDg0Yy00NmVjLTgyYTctNTViMjYwMGRjMmQ3OjdkMmM0MmQ0LWZkNzItNDczNy1iNjliLTlkYjU2MjE1NWFlYw==\"\n",
    "embedding_function_gigachat = GigaChatEmbeddings(credentials=sber, verify_ssl_certs=False,\n",
    "                                                 scope=\"GIGACHAT_API_PERS\")"
   ],
   "metadata": {
    "collapsed": false
   }
  },
  {
   "cell_type": "code",
   "execution_count": 3,
   "outputs": [
    {
     "data": {
      "text/plain": "Collection(name=chromadb_chunk_size_1200)"
     },
     "execution_count": 3,
     "metadata": {},
     "output_type": "execute_result"
    }
   ],
   "source": [
    "persist_directory = \"/Users/gd/PycharmProjects/altirix_systems_chatbot/chromadb_chunk_size_1200\"\n",
    "client = chromadb.PersistentClient(path=persist_directory)\n",
    "client.get_or_create_collection(name=\"chromadb_chunk_size_1200\")"
   ],
   "metadata": {
    "collapsed": false
   }
  },
  {
   "cell_type": "code",
   "execution_count": 4,
   "outputs": [],
   "source": [
    "chromadb_chunk_size_1200 = Chroma(\n",
    "    persist_directory=\"/Users/gd/PycharmProjects/altirix_systems_chatbot/chromadb_chunk_size_1200\",\n",
    "    embedding_function=embedding_function_gigachat)\n"
   ],
   "metadata": {
    "collapsed": false
   }
  },
  {
   "cell_type": "code",
   "execution_count": 5,
   "outputs": [],
   "source": [
    "#Считывание существующих данных из хрома\n",
    "db_info = chromadb_chunk_size_1200._collection.get(include=[\"documents\", \"metadatas\", \"embeddings\"])\n",
    "\n",
    "ids_ = []\n",
    "metadatas_ = []\n",
    "documents_ = []\n",
    "embs_ = []\n",
    "for i in range(len(db_info['metadatas'])):\n",
    "    ids_.append(db_info['ids'][i])\n",
    "    documents_.append(db_info['documents'][i])\n",
    "    embs_.append(db_info['embeddings'][i])\n",
    "    metadatas_.append(db_info['metadatas'][i])\n",
    "\n"
   ],
   "metadata": {
    "collapsed": false
   }
  },
  {
   "cell_type": "code",
   "execution_count": null,
   "outputs": [],
   "source": [
    "doc_cats = {'cb_rf_acts': 'Стандарт ЦБ РФ', 'cb_rf_info_letters': 'Информационное письмо ЦБ РФ', 'cb_rf_methodical_recommendations': 'Методическая рекомендация ЦБ РФ',\n",
    "            'cb_rf_policies': 'Указание ЦБ РФ', 'cb_rf_position': 'Положение ЦБ РФ', 'cb_rf_prikazy': 'Приказ ЦБ РФ', 'cb_rf_recommendations': 'Рекомендация в области стандартизации ЦБ РФ',\n",
    "            'fsb_documents_pdf': 'Приказ ФСБ', 'fstek_documents_pdf': 'Приказ ФСТЭК', 'fz': 'Федеральный закон', 'gossopka_acts': 'Указ Президента РФ', 'gosts': 'ГОСТ', 'minimum_docs': 'Документы из перечня необходимого минимума'}"
   ],
   "metadata": {
    "collapsed": false
   }
  },
  {
   "cell_type": "code",
   "execution_count": 60,
   "outputs": [
    {
     "name": "stdout",
     "output_type": "stream",
     "text": [
      "Было: \n",
      "{'page': 0, 'source': '/Users/gd/PycharmProjects/altirix_systems_chatbot/cb_rf_acts/СТО БР ФАПИ.СЕК-1.6-2020.pdf'}\n",
      "{'page': 3, 'source': '/Users/gd/PycharmProjects/altirix_systems_chatbot/cb_rf_methodical_recommendations/20230620_8-mr.pdf'}\n",
      "{'page': 2, 'source': '/Users/gd/PycharmProjects/altirix_systems_chatbot/cb_rf_position/Положение Банка России от 17.04.2019 N 683-П (ред. от 06.12..pdf'}\n",
      "{'page': 6, 'source': '/Users/gd/PycharmProjects/altirix_systems_chatbot/cb_rf_recommendations/rs-26-14.pdf'}\n",
      "_______________________________\n",
      "Будет: \n",
      "{'page': 0, 'source': '/Users/gd/PycharmProjects/altirix_systems_chatbot/Стандарт ЦБ РФ/СТО БР ФАПИ.СЕК-1.6-2020.pdf'}\n",
      "{'page': 3, 'source': '/Users/gd/PycharmProjects/altirix_systems_chatbot/Методические рекомендации ЦБ РФ/Методические рекомендации ЦБ РФ от 20.06.2023 № 8-МР.pdf'}\n",
      "{'page': 2, 'source': '/Users/gd/PycharmProjects/altirix_systems_chatbot/Положение ЦБ РФ/Положение ЦБ РФ от 17.04.2019 N 683-П.pdf'}\n",
      "{'page': 6, 'source': '/Users/gd/PycharmProjects/altirix_systems_chatbot/Рекомендация в области стандартизации ЦБ РФ/РС БР ИББС-2.6-2014.pdf'}\n"
     ]
    }
   ],
   "source": [
    "#как будут выглядеть пути после замены\n",
    "print('Было: ')\n",
    "print(metadatas_[0])\n",
    "print(metadatas_[2400])\n",
    "print(metadatas_[2800])\n",
    "print(metadatas_[3000])\n",
    "print('_______________________________')\n",
    "print('Будет: ')\n",
    "print({'page': 0,\n",
    " 'source': '/Users/gd/PycharmProjects/altirix_systems_chatbot/Стандарт ЦБ РФ/СТО БР ФАПИ.СЕК-1.6-2020.pdf'})\n",
    "print({'page': 3,\n",
    " 'source': '/Users/gd/PycharmProjects/altirix_systems_chatbot/Методические рекомендации ЦБ РФ/Методические рекомендации ЦБ РФ от 20.06.2023 № 8-МР.pdf'})\n",
    "print({'page': 2,\n",
    " 'source': '/Users/gd/PycharmProjects/altirix_systems_chatbot/Положение ЦБ РФ/Положение ЦБ РФ от 17.04.2019 N 683-П.pdf'})\n",
    "print({'page': 6,\n",
    " 'source': '/Users/gd/PycharmProjects/altirix_systems_chatbot/Рекомендация в области стандартизации ЦБ РФ/РС БР ИББС-2.6-2014.pdf'})"
   ],
   "metadata": {
    "collapsed": false
   }
  },
  {
   "cell_type": "code",
   "execution_count": null,
   "outputs": [],
   "source": [
    "#Вот так заменять пути к чанкам\n",
    "metadatas_[0]['source'] = '/Users/gd/PycharmProjects/altirix_systems_chatbot/cb_rf_acts/СТО БР ФАПИ.СЕК-1.6-2020.pdf'"
   ],
   "metadata": {
    "collapsed": false
   }
  },
  {
   "cell_type": "code",
   "execution_count": 48,
   "outputs": [],
   "source": [
    "#создание новой хромадб, добавление туда измененных данных\n",
    "#Возможно за раз не нужно добавлять сразу все документы, лучше (по частям)\n",
    "persist_directory = \"/Users/gd/PycharmProjects/altirix_systems_chatbot/chromadb_chunk_size_1200_2\"\n",
    "client = chromadb.PersistentClient(path=persist_directory)\n",
    "client.get_or_create_collection(name=\"chromadb_chunk_size_1200_2\")\n",
    "\n",
    "chromadb_chunk_size_1200_2 = Chroma(\n",
    "    persist_directory=\"/Users/gd/PycharmProjects/altirix_systems_chatbot/chromadb_chunk_size_1200_2\",\n",
    "    embedding_function=embedding_function_gigachat)\n",
    "\n",
    "\n",
    "chromadb_chunk_size_1200_2._collection.add(\n",
    "    documents=documents_[:10],\n",
    "    embeddings=embs_[:10],\n",
    "    ids=ids_[:10],\n",
    "    metadatas=metadatas_[:10]\n",
    ")"
   ],
   "metadata": {
    "collapsed": false
   }
  },
  {
   "cell_type": "code",
   "execution_count": null,
   "outputs": [],
   "source": [
    "# chromadb_chunk_size_1200_2._collection.get(include=[\"documents\", \"metadatas\", \"embeddings\"])"
   ],
   "metadata": {
    "collapsed": false,
    "pycharm": {
     "is_executing": true
    }
   }
  },
  {
   "cell_type": "code",
   "execution_count": null,
   "outputs": [],
   "source": [],
   "metadata": {
    "collapsed": false
   }
  }
 ],
 "metadata": {
  "kernelspec": {
   "display_name": "Python 3",
   "language": "python",
   "name": "python3"
  },
  "language_info": {
   "codemirror_mode": {
    "name": "ipython",
    "version": 2
   },
   "file_extension": ".py",
   "mimetype": "text/x-python",
   "name": "python",
   "nbconvert_exporter": "python",
   "pygments_lexer": "ipython2",
   "version": "2.7.6"
  }
 },
 "nbformat": 4,
 "nbformat_minor": 0
}
